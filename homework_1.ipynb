{
 "cells": [
  {
   "cell_type": "code",
   "execution_count": null,
   "id": "fb86e060",
   "metadata": {},
   "outputs": [],
   "source": [
    "import pandas as pd\n",
    "import numpy as np\n",
    "import matplotlib.pyplot as plt\n",
    "import seaborn as sns\n",
    "import os\n",
    "from sklearn.feature_extraction import DictVectorizer\n",
    "from sklearn.linear_model import LinearRegression\n",
    "from sklearn.linear_model import Lasso\n",
    "from sklearn.linear_model import Ridge\n",
    "from sklearn.metrics import root_mean_squared_error"
   ]
  },
  {
   "cell_type": "code",
   "execution_count": 22,
   "id": "7e3a3c3d",
   "metadata": {},
   "outputs": [],
   "source": [
    "TRAIN_FILE = \"./data/yellow_tripdata_2023-01.parquet\"\n",
    "TEST_FILE = \"./data/yellow_tripdata_2023-02.parquet\""
   ]
  },
  {
   "cell_type": "code",
   "execution_count": 23,
   "id": "1e3f894b",
   "metadata": {},
   "outputs": [],
   "source": [
    "train_df = pd.read_parquet(TRAIN_FILE)\n",
    "test_df = pd.read_parquet(TEST_FILE)"
   ]
  },
  {
   "cell_type": "markdown",
   "id": "121e1e2a",
   "metadata": {},
   "source": [
    "### Q1. How many columns on January dataset?"
   ]
  },
  {
   "cell_type": "code",
   "execution_count": 24,
   "id": "08119886",
   "metadata": {},
   "outputs": [
    {
     "data": {
      "text/plain": [
       "19"
      ]
     },
     "execution_count": 24,
     "metadata": {},
     "output_type": "execute_result"
    }
   ],
   "source": [
    "len(train_df.columns)"
   ]
  },
  {
   "cell_type": "markdown",
   "id": "fac4ee9b",
   "metadata": {},
   "source": [
    "### Q2. Computing duration"
   ]
  },
  {
   "cell_type": "code",
   "execution_count": 25,
   "id": "8ab09d52",
   "metadata": {},
   "outputs": [],
   "source": [
    "train_df[\"duration\"] = (\n",
    "    pd.to_datetime(train_df[\"tpep_dropoff_datetime\"]) - pd.to_datetime(train_df[\"tpep_pickup_datetime\"])\n",
    ")\n",
    "train_df[\"duration\"] = train_df[\"duration\"].dt.total_seconds() / 60"
   ]
  },
  {
   "cell_type": "code",
   "execution_count": 26,
   "id": "17d2e708",
   "metadata": {},
   "outputs": [
    {
     "data": {
      "text/plain": [
       "count    3.066766e+06\n",
       "mean     1.566900e+01\n",
       "std      4.259435e+01\n",
       "min     -2.920000e+01\n",
       "25%      7.116667e+00\n",
       "50%      1.151667e+01\n",
       "75%      1.830000e+01\n",
       "max      1.002918e+04\n",
       "Name: duration, dtype: float64"
      ]
     },
     "execution_count": 26,
     "metadata": {},
     "output_type": "execute_result"
    }
   ],
   "source": [
    "train_df[\"duration\"].describe()"
   ]
  },
  {
   "cell_type": "markdown",
   "id": "93f3bb41",
   "metadata": {},
   "source": [
    "### Q3. Dropping outliers"
   ]
  },
  {
   "cell_type": "code",
   "execution_count": 28,
   "id": "afd56579",
   "metadata": {},
   "outputs": [],
   "source": [
    "len_before = len(train_df)\n",
    "train_df = train_df[(train_df[\"duration\"]>= 1) & (train_df[\"duration\"] <= 60)]\n",
    "len_after = len(train_df)"
   ]
  },
  {
   "cell_type": "code",
   "execution_count": 29,
   "id": "a8e9ad75",
   "metadata": {},
   "outputs": [
    {
     "data": {
      "text/plain": [
       "0.9812202822125979"
      ]
     },
     "execution_count": 29,
     "metadata": {},
     "output_type": "execute_result"
    }
   ],
   "source": [
    "len_after/len_before"
   ]
  },
  {
   "cell_type": "markdown",
   "id": "9c8656e4",
   "metadata": {},
   "source": [
    "### Q4. One-hot encoding"
   ]
  },
  {
   "cell_type": "code",
   "execution_count": 36,
   "id": "fead2c06",
   "metadata": {},
   "outputs": [],
   "source": [
    "columns_ohe = [\"PULocationID\", \"DOLocationID\"]\n",
    "train_df[columns_ohe] = train_df[columns_ohe].astype(str)"
   ]
  },
  {
   "cell_type": "code",
   "execution_count": 38,
   "id": "8919832d",
   "metadata": {},
   "outputs": [],
   "source": [
    "dict_vectorizer = DictVectorizer()\n",
    "train_df_ohe = dict_vectorizer.fit_transform(train_df[columns_ohe].to_dict(orient=\"records\"))"
   ]
  },
  {
   "cell_type": "code",
   "execution_count": 42,
   "id": "94de5619",
   "metadata": {},
   "outputs": [
    {
     "data": {
      "text/plain": [
       "515"
      ]
     },
     "execution_count": 42,
     "metadata": {},
     "output_type": "execute_result"
    }
   ],
   "source": [
    "train_df_ohe.shape[1]"
   ]
  },
  {
   "cell_type": "markdown",
   "id": "47539676",
   "metadata": {},
   "source": [
    "### Q5. Training a model"
   ]
  },
  {
   "cell_type": "code",
   "execution_count": 43,
   "id": "f793c980",
   "metadata": {},
   "outputs": [
    {
     "data": {
      "text/plain": [
       "7.649261931416412"
      ]
     },
     "execution_count": 43,
     "metadata": {},
     "output_type": "execute_result"
    }
   ],
   "source": [
    "lr = LinearRegression()\n",
    "X_train = train_df_ohe\n",
    "y_train = train_df[\"duration\"].values\n",
    "lr.fit(X_train, y_train)\n",
    "y_pred = lr.predict(X_train)\n",
    "rmse = root_mean_squared_error(y_train, y_pred)\n",
    "rmse"
   ]
  },
  {
   "cell_type": "markdown",
   "id": "0e262df7",
   "metadata": {},
   "source": [
    "### Q6. Evaluating the model"
   ]
  },
  {
   "cell_type": "code",
   "execution_count": 52,
   "id": "8cdc75ff",
   "metadata": {},
   "outputs": [],
   "source": [
    "test_df[\"duration\"] = (\n",
    "    pd.to_datetime(test_df[\"tpep_dropoff_datetime\"]) - pd.to_datetime(test_df[\"tpep_pickup_datetime\"])\n",
    ")\n",
    "test_df[\"duration\"] = test_df[\"duration\"].dt.total_seconds() / 60\n",
    "test_df[columns_ohe] = test_df[columns_ohe].astype(str)"
   ]
  },
  {
   "cell_type": "code",
   "execution_count": 55,
   "id": "dab3cb20",
   "metadata": {},
   "outputs": [],
   "source": [
    "X_test = dict_vectorizer.transform(test_df[columns_ohe].to_dict(orient=\"records\"))\n",
    "y_test = test_df[\"duration\"].values"
   ]
  },
  {
   "cell_type": "code",
   "execution_count": 58,
   "id": "c2672048",
   "metadata": {},
   "outputs": [
    {
     "data": {
      "text/plain": [
       "7.8118162035401735"
      ]
     },
     "execution_count": 58,
     "metadata": {},
     "output_type": "execute_result"
    }
   ],
   "source": [
    "y_pred = lr.predict(X_test)\n",
    "rmse = root_mean_squared_error(y_test, y_pred)\n",
    "rmse"
   ]
  }
 ],
 "metadata": {
  "kernelspec": {
   "display_name": "base",
   "language": "python",
   "name": "python3"
  },
  "language_info": {
   "codemirror_mode": {
    "name": "ipython",
    "version": 3
   },
   "file_extension": ".py",
   "mimetype": "text/x-python",
   "name": "python",
   "nbconvert_exporter": "python",
   "pygments_lexer": "ipython3",
   "version": "3.13.2"
  }
 },
 "nbformat": 4,
 "nbformat_minor": 5
}
