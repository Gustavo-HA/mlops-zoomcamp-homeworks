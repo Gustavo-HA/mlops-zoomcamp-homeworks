{
 "cells": [
  {
   "cell_type": "code",
   "execution_count": null,
   "id": "52c4093a",
   "metadata": {},
   "outputs": [],
   "source": [
    "from evidently import Report\n",
    "from evidently.presets import DataDriftPreset, DataSummaryPreset\n",
    "\n",
    "from evidently.ui.workspace import Workspace\n",
    "from evidently.sdk.panels import *\n",
    "from evidently.sdk.models import PanelMetric\n",
    "from evidently.legacy.renderers.html_widgets import WidgetSize\n",
    "from evidently import DataDefinition\n",
    "from evidently import Dataset\n",
    "from evidently import Report\n",
    "from evidently.metrics import (\n",
    "    ValueDrift, \n",
    "    DriftedColumnsCount,\n",
    "    MissingValueCount,\n",
    "    StdValue,\n",
    "    QuantileValue\n",
    "    )\n",
    "import pandas as pd\n",
    "import datetime as dt\n",
    "\n",
    "import joblib"
   ]
  },
  {
   "cell_type": "code",
   "execution_count": 4,
   "id": "ece7b6bd",
   "metadata": {},
   "outputs": [],
   "source": [
    "mar_data = pd.read_parquet('data/green_tripdata_2024-03.parquet')"
   ]
  },
  {
   "cell_type": "code",
   "execution_count": 5,
   "id": "9498ec47",
   "metadata": {},
   "outputs": [
    {
     "data": {
      "application/vnd.microsoft.datawrangler.viewer.v0+json": {
       "columns": [
        {
         "name": "index",
         "rawType": "object",
         "type": "string"
        },
        {
         "name": "VendorID",
         "rawType": "float64",
         "type": "float"
        },
        {
         "name": "lpep_pickup_datetime",
         "rawType": "object",
         "type": "unknown"
        },
        {
         "name": "lpep_dropoff_datetime",
         "rawType": "object",
         "type": "unknown"
        },
        {
         "name": "RatecodeID",
         "rawType": "float64",
         "type": "float"
        },
        {
         "name": "PULocationID",
         "rawType": "float64",
         "type": "float"
        },
        {
         "name": "DOLocationID",
         "rawType": "float64",
         "type": "float"
        },
        {
         "name": "passenger_count",
         "rawType": "float64",
         "type": "float"
        },
        {
         "name": "trip_distance",
         "rawType": "float64",
         "type": "float"
        },
        {
         "name": "fare_amount",
         "rawType": "float64",
         "type": "float"
        },
        {
         "name": "extra",
         "rawType": "float64",
         "type": "float"
        },
        {
         "name": "mta_tax",
         "rawType": "float64",
         "type": "float"
        },
        {
         "name": "tip_amount",
         "rawType": "float64",
         "type": "float"
        },
        {
         "name": "tolls_amount",
         "rawType": "float64",
         "type": "float"
        },
        {
         "name": "ehail_fee",
         "rawType": "float64",
         "type": "float"
        },
        {
         "name": "improvement_surcharge",
         "rawType": "float64",
         "type": "float"
        },
        {
         "name": "total_amount",
         "rawType": "float64",
         "type": "float"
        },
        {
         "name": "payment_type",
         "rawType": "float64",
         "type": "float"
        },
        {
         "name": "trip_type",
         "rawType": "float64",
         "type": "float"
        },
        {
         "name": "congestion_surcharge",
         "rawType": "float64",
         "type": "float"
        }
       ],
       "ref": "9c8dbe10-9ee6-4817-b4e7-8281a90a7606",
       "rows": [
        [
         "count",
         "57457.0",
         "57457",
         "57457",
         "55360.0",
         "57457.0",
         "57457.0",
         "55360.0",
         "57457.0",
         "57457.0",
         "57457.0",
         "57457.0",
         "57457.0",
         "57457.0",
         "0.0",
         "57457.0",
         "57457.0",
         "55360.0",
         "55353.0",
         "55360.0"
        ],
        [
         "mean",
         "1.8773343543867589",
         "2024-03-16 04:02:52.405399",
         "2024-03-16 04:21:00.076039",
         "1.179985549132948",
         "95.52468802756844",
         "138.62914875472092",
         "1.3095375722543352",
         "13.522828376002922",
         "17.31347425030893",
         "0.9044720399603181",
         "0.5774100631776807",
         "2.38625493847573",
         "0.1925368536470752",
         null,
         "0.9793776215256627",
         "22.904831961292793",
         "1.3210621387283237",
         "1.0380467183350497",
         "0.7377303106936416"
        ],
        [
         "min",
         "1.0",
         "2008-12-31 23:02:24",
         "2008-12-31 23:02:30",
         "1.0",
         "1.0",
         "1.0",
         "0.0",
         "0.0",
         "-295.08",
         "-2.5",
         "-0.5",
         "-1.56",
         "0.0",
         null,
         "-1.0",
         "-296.08",
         "1.0",
         "1.0",
         "-2.75"
        ],
        [
         "25%",
         "2.0",
         "2024-03-08 13:53:56",
         "2024-03-08 14:13:49",
         "1.0",
         "74.0",
         "74.0",
         "1.0",
         "1.1",
         "9.3",
         "0.0",
         "0.5",
         "0.0",
         "0.0",
         null,
         "1.0",
         "13.44",
         "1.0",
         "1.0",
         "0.0"
        ],
        [
         "50%",
         "2.0",
         "2024-03-15 22:49:01",
         "2024-03-15 23:09:52",
         "1.0",
         "75.0",
         "138.0",
         "1.0",
         "1.79",
         "13.5",
         "0.0",
         "0.5",
         "2.0",
         "0.0",
         null,
         "1.0",
         "18.5",
         "1.0",
         "1.0",
         "0.0"
        ],
        [
         "75%",
         "2.0",
         "2024-03-23 20:11:25",
         "2024-03-23 20:34:48",
         "1.0",
         "97.0",
         "220.0",
         "1.0",
         "3.1",
         "19.8",
         "1.0",
         "0.5",
         "3.61",
         "0.0",
         null,
         "1.0",
         "27.05",
         "2.0",
         "1.0",
         "2.75"
        ],
        [
         "max",
         "2.0",
         "2024-04-01 00:01:45",
         "2024-04-01 16:11:00",
         "99.0",
         "265.0",
         "265.0",
         "9.0",
         "125112.2",
         "841.6",
         "10.0",
         "4.25",
         "150.0",
         "26.76",
         null,
         "1.0",
         "856.98",
         "5.0",
         "2.0",
         "2.75"
        ],
        [
         "std",
         "0.32805587643551337",
         null,
         null,
         "1.3567194199486299",
         "57.285088249957",
         "76.29534591917275",
         "0.9677485332514993",
         "770.4162548303235",
         "14.958249228144485",
         "1.3824455284965727",
         "0.36691571086587743",
         "3.159273449005771",
         "1.1845513753939605",
         null,
         "0.15425340442768157",
         "17.013735297519574",
         "0.49785829984605573",
         "0.19131081194388325",
         "1.2180385460949472"
        ]
       ],
       "shape": {
        "columns": 19,
        "rows": 8
       }
      },
      "text/html": [
       "<div>\n",
       "<style scoped>\n",
       "    .dataframe tbody tr th:only-of-type {\n",
       "        vertical-align: middle;\n",
       "    }\n",
       "\n",
       "    .dataframe tbody tr th {\n",
       "        vertical-align: top;\n",
       "    }\n",
       "\n",
       "    .dataframe thead th {\n",
       "        text-align: right;\n",
       "    }\n",
       "</style>\n",
       "<table border=\"1\" class=\"dataframe\">\n",
       "  <thead>\n",
       "    <tr style=\"text-align: right;\">\n",
       "      <th></th>\n",
       "      <th>VendorID</th>\n",
       "      <th>lpep_pickup_datetime</th>\n",
       "      <th>lpep_dropoff_datetime</th>\n",
       "      <th>RatecodeID</th>\n",
       "      <th>PULocationID</th>\n",
       "      <th>DOLocationID</th>\n",
       "      <th>passenger_count</th>\n",
       "      <th>trip_distance</th>\n",
       "      <th>fare_amount</th>\n",
       "      <th>extra</th>\n",
       "      <th>mta_tax</th>\n",
       "      <th>tip_amount</th>\n",
       "      <th>tolls_amount</th>\n",
       "      <th>ehail_fee</th>\n",
       "      <th>improvement_surcharge</th>\n",
       "      <th>total_amount</th>\n",
       "      <th>payment_type</th>\n",
       "      <th>trip_type</th>\n",
       "      <th>congestion_surcharge</th>\n",
       "    </tr>\n",
       "  </thead>\n",
       "  <tbody>\n",
       "    <tr>\n",
       "      <th>count</th>\n",
       "      <td>57457.000000</td>\n",
       "      <td>57457</td>\n",
       "      <td>57457</td>\n",
       "      <td>55360.000000</td>\n",
       "      <td>57457.000000</td>\n",
       "      <td>57457.000000</td>\n",
       "      <td>55360.000000</td>\n",
       "      <td>57457.000000</td>\n",
       "      <td>57457.000000</td>\n",
       "      <td>57457.000000</td>\n",
       "      <td>57457.000000</td>\n",
       "      <td>57457.000000</td>\n",
       "      <td>57457.000000</td>\n",
       "      <td>0.0</td>\n",
       "      <td>57457.000000</td>\n",
       "      <td>57457.000000</td>\n",
       "      <td>55360.000000</td>\n",
       "      <td>55353.000000</td>\n",
       "      <td>55360.000000</td>\n",
       "    </tr>\n",
       "    <tr>\n",
       "      <th>mean</th>\n",
       "      <td>1.877334</td>\n",
       "      <td>2024-03-16 04:02:52.405399</td>\n",
       "      <td>2024-03-16 04:21:00.076039</td>\n",
       "      <td>1.179986</td>\n",
       "      <td>95.524688</td>\n",
       "      <td>138.629149</td>\n",
       "      <td>1.309538</td>\n",
       "      <td>13.522828</td>\n",
       "      <td>17.313474</td>\n",
       "      <td>0.904472</td>\n",
       "      <td>0.577410</td>\n",
       "      <td>2.386255</td>\n",
       "      <td>0.192537</td>\n",
       "      <td>NaN</td>\n",
       "      <td>0.979378</td>\n",
       "      <td>22.904832</td>\n",
       "      <td>1.321062</td>\n",
       "      <td>1.038047</td>\n",
       "      <td>0.737730</td>\n",
       "    </tr>\n",
       "    <tr>\n",
       "      <th>min</th>\n",
       "      <td>1.000000</td>\n",
       "      <td>2008-12-31 23:02:24</td>\n",
       "      <td>2008-12-31 23:02:30</td>\n",
       "      <td>1.000000</td>\n",
       "      <td>1.000000</td>\n",
       "      <td>1.000000</td>\n",
       "      <td>0.000000</td>\n",
       "      <td>0.000000</td>\n",
       "      <td>-295.080000</td>\n",
       "      <td>-2.500000</td>\n",
       "      <td>-0.500000</td>\n",
       "      <td>-1.560000</td>\n",
       "      <td>0.000000</td>\n",
       "      <td>NaN</td>\n",
       "      <td>-1.000000</td>\n",
       "      <td>-296.080000</td>\n",
       "      <td>1.000000</td>\n",
       "      <td>1.000000</td>\n",
       "      <td>-2.750000</td>\n",
       "    </tr>\n",
       "    <tr>\n",
       "      <th>25%</th>\n",
       "      <td>2.000000</td>\n",
       "      <td>2024-03-08 13:53:56</td>\n",
       "      <td>2024-03-08 14:13:49</td>\n",
       "      <td>1.000000</td>\n",
       "      <td>74.000000</td>\n",
       "      <td>74.000000</td>\n",
       "      <td>1.000000</td>\n",
       "      <td>1.100000</td>\n",
       "      <td>9.300000</td>\n",
       "      <td>0.000000</td>\n",
       "      <td>0.500000</td>\n",
       "      <td>0.000000</td>\n",
       "      <td>0.000000</td>\n",
       "      <td>NaN</td>\n",
       "      <td>1.000000</td>\n",
       "      <td>13.440000</td>\n",
       "      <td>1.000000</td>\n",
       "      <td>1.000000</td>\n",
       "      <td>0.000000</td>\n",
       "    </tr>\n",
       "    <tr>\n",
       "      <th>50%</th>\n",
       "      <td>2.000000</td>\n",
       "      <td>2024-03-15 22:49:01</td>\n",
       "      <td>2024-03-15 23:09:52</td>\n",
       "      <td>1.000000</td>\n",
       "      <td>75.000000</td>\n",
       "      <td>138.000000</td>\n",
       "      <td>1.000000</td>\n",
       "      <td>1.790000</td>\n",
       "      <td>13.500000</td>\n",
       "      <td>0.000000</td>\n",
       "      <td>0.500000</td>\n",
       "      <td>2.000000</td>\n",
       "      <td>0.000000</td>\n",
       "      <td>NaN</td>\n",
       "      <td>1.000000</td>\n",
       "      <td>18.500000</td>\n",
       "      <td>1.000000</td>\n",
       "      <td>1.000000</td>\n",
       "      <td>0.000000</td>\n",
       "    </tr>\n",
       "    <tr>\n",
       "      <th>75%</th>\n",
       "      <td>2.000000</td>\n",
       "      <td>2024-03-23 20:11:25</td>\n",
       "      <td>2024-03-23 20:34:48</td>\n",
       "      <td>1.000000</td>\n",
       "      <td>97.000000</td>\n",
       "      <td>220.000000</td>\n",
       "      <td>1.000000</td>\n",
       "      <td>3.100000</td>\n",
       "      <td>19.800000</td>\n",
       "      <td>1.000000</td>\n",
       "      <td>0.500000</td>\n",
       "      <td>3.610000</td>\n",
       "      <td>0.000000</td>\n",
       "      <td>NaN</td>\n",
       "      <td>1.000000</td>\n",
       "      <td>27.050000</td>\n",
       "      <td>2.000000</td>\n",
       "      <td>1.000000</td>\n",
       "      <td>2.750000</td>\n",
       "    </tr>\n",
       "    <tr>\n",
       "      <th>max</th>\n",
       "      <td>2.000000</td>\n",
       "      <td>2024-04-01 00:01:45</td>\n",
       "      <td>2024-04-01 16:11:00</td>\n",
       "      <td>99.000000</td>\n",
       "      <td>265.000000</td>\n",
       "      <td>265.000000</td>\n",
       "      <td>9.000000</td>\n",
       "      <td>125112.200000</td>\n",
       "      <td>841.600000</td>\n",
       "      <td>10.000000</td>\n",
       "      <td>4.250000</td>\n",
       "      <td>150.000000</td>\n",
       "      <td>26.760000</td>\n",
       "      <td>NaN</td>\n",
       "      <td>1.000000</td>\n",
       "      <td>856.980000</td>\n",
       "      <td>5.000000</td>\n",
       "      <td>2.000000</td>\n",
       "      <td>2.750000</td>\n",
       "    </tr>\n",
       "    <tr>\n",
       "      <th>std</th>\n",
       "      <td>0.328056</td>\n",
       "      <td>NaN</td>\n",
       "      <td>NaN</td>\n",
       "      <td>1.356719</td>\n",
       "      <td>57.285088</td>\n",
       "      <td>76.295346</td>\n",
       "      <td>0.967749</td>\n",
       "      <td>770.416255</td>\n",
       "      <td>14.958249</td>\n",
       "      <td>1.382446</td>\n",
       "      <td>0.366916</td>\n",
       "      <td>3.159273</td>\n",
       "      <td>1.184551</td>\n",
       "      <td>NaN</td>\n",
       "      <td>0.154253</td>\n",
       "      <td>17.013735</td>\n",
       "      <td>0.497858</td>\n",
       "      <td>0.191311</td>\n",
       "      <td>1.218039</td>\n",
       "    </tr>\n",
       "  </tbody>\n",
       "</table>\n",
       "</div>"
      ],
      "text/plain": [
       "           VendorID  ... congestion_surcharge\n",
       "count  57457.000000  ...         55360.000000\n",
       "mean       1.877334  ...             0.737730\n",
       "min        1.000000  ...            -2.750000\n",
       "25%        2.000000  ...             0.000000\n",
       "50%        2.000000  ...             0.000000\n",
       "75%        2.000000  ...             2.750000\n",
       "max        2.000000  ...             2.750000\n",
       "std        0.328056  ...             1.218039\n",
       "\n",
       "[8 rows x 19 columns]"
      ]
     },
     "execution_count": 5,
     "metadata": {},
     "output_type": "execute_result"
    }
   ],
   "source": [
    "mar_data.describe()"
   ]
  },
  {
   "cell_type": "code",
   "execution_count": 6,
   "id": "e9643f89",
   "metadata": {},
   "outputs": [
    {
     "data": {
      "text/plain": [
       "(57457, 20)"
      ]
     },
     "execution_count": 6,
     "metadata": {},
     "output_type": "execute_result"
    }
   ],
   "source": [
    "mar_data.shape"
   ]
  },
  {
   "cell_type": "code",
   "execution_count": 7,
   "id": "119c6fe0",
   "metadata": {},
   "outputs": [],
   "source": [
    "mar_data[\"duration_min\"] = mar_data.lpep_dropoff_datetime - mar_data.lpep_pickup_datetime\n",
    "mar_data.duration_min = mar_data.duration_min.apply(lambda td : float(td.total_seconds())/60)"
   ]
  },
  {
   "cell_type": "code",
   "execution_count": 8,
   "id": "81966e10",
   "metadata": {},
   "outputs": [],
   "source": [
    "# filter out outliers\n",
    "mar_data = mar_data[(mar_data.duration_min >= 0) & (mar_data.duration_min <= 60)]\n",
    "mar_data = mar_data[(mar_data.passenger_count > 0) & (mar_data.passenger_count <= 8)]"
   ]
  },
  {
   "cell_type": "code",
   "execution_count": 9,
   "id": "003cc30c",
   "metadata": {},
   "outputs": [],
   "source": [
    "target = \"duration_min\"\n",
    "num_features = [\"passenger_count\", \"trip_distance\", \"fare_amount\", \"total_amount\"]\n",
    "cat_features = [\"PULocationID\", \"DOLocationID\"]"
   ]
  },
  {
   "cell_type": "markdown",
   "id": "699017e8",
   "metadata": {},
   "source": [
    "### Creating prediction column"
   ]
  },
  {
   "cell_type": "code",
   "execution_count": 10,
   "id": "aa36c5f4",
   "metadata": {},
   "outputs": [],
   "source": [
    "model = joblib.load(\"models/lin_reg.bin\")\n",
    "mar_data[\"prediction\"] = model.predict(mar_data[num_features + cat_features])"
   ]
  },
  {
   "cell_type": "markdown",
   "id": "7924c54e",
   "metadata": {},
   "source": [
    "### Evidently Dashboard"
   ]
  },
  {
   "cell_type": "code",
   "execution_count": 11,
   "id": "54232ab1",
   "metadata": {},
   "outputs": [],
   "source": [
    "ws = Workspace(path=\"workspace\")\n",
    "project = ws.create_project(\"HW 5 - NYC Taxi Data\")\n",
    "project.description = \"MLOps Zoomcamp - HW5 - Evidently\"\n",
    "project.save()"
   ]
  },
  {
   "cell_type": "code",
   "execution_count": 26,
   "id": "51a28ba0",
   "metadata": {},
   "outputs": [
    {
     "name": "stdout",
     "output_type": "stream",
     "text": [
      "Processing data for 2024-03-01\n",
      "Processing data for 2024-03-02\n"
     ]
    },
    {
     "name": "stderr",
     "output_type": "stream",
     "text": [
      "/home/gus/miniconda3/envs/monitoring/lib/python3.11/site-packages/evidently/core/datasets.py:990: RuntimeWarning:\n",
      "\n",
      "invalid value encountered in scalar divide\n",
      "\n",
      "/home/gus/miniconda3/envs/monitoring/lib/python3.11/site-packages/evidently/core/datasets.py:990: RuntimeWarning:\n",
      "\n",
      "invalid value encountered in scalar divide\n",
      "\n"
     ]
    },
    {
     "name": "stdout",
     "output_type": "stream",
     "text": [
      "Processing data for 2024-03-03\n",
      "Processing data for 2024-03-04\n",
      "Processing data for 2024-03-05\n"
     ]
    },
    {
     "name": "stderr",
     "output_type": "stream",
     "text": [
      "/home/gus/miniconda3/envs/monitoring/lib/python3.11/site-packages/evidently/core/datasets.py:990: RuntimeWarning:\n",
      "\n",
      "invalid value encountered in scalar divide\n",
      "\n",
      "/home/gus/miniconda3/envs/monitoring/lib/python3.11/site-packages/evidently/core/datasets.py:990: RuntimeWarning:\n",
      "\n",
      "invalid value encountered in scalar divide\n",
      "\n",
      "/home/gus/miniconda3/envs/monitoring/lib/python3.11/site-packages/evidently/core/datasets.py:990: RuntimeWarning:\n",
      "\n",
      "invalid value encountered in scalar divide\n",
      "\n"
     ]
    },
    {
     "name": "stdout",
     "output_type": "stream",
     "text": [
      "Processing data for 2024-03-06\n",
      "Processing data for 2024-03-07\n",
      "Processing data for 2024-03-08\n"
     ]
    },
    {
     "name": "stderr",
     "output_type": "stream",
     "text": [
      "/home/gus/miniconda3/envs/monitoring/lib/python3.11/site-packages/evidently/core/datasets.py:990: RuntimeWarning:\n",
      "\n",
      "invalid value encountered in scalar divide\n",
      "\n",
      "/home/gus/miniconda3/envs/monitoring/lib/python3.11/site-packages/evidently/core/datasets.py:990: RuntimeWarning:\n",
      "\n",
      "invalid value encountered in scalar divide\n",
      "\n",
      "/home/gus/miniconda3/envs/monitoring/lib/python3.11/site-packages/evidently/core/datasets.py:990: RuntimeWarning:\n",
      "\n",
      "invalid value encountered in scalar divide\n",
      "\n"
     ]
    },
    {
     "name": "stdout",
     "output_type": "stream",
     "text": [
      "Processing data for 2024-03-09\n",
      "Processing data for 2024-03-10\n",
      "Processing data for 2024-03-11\n"
     ]
    },
    {
     "name": "stderr",
     "output_type": "stream",
     "text": [
      "/home/gus/miniconda3/envs/monitoring/lib/python3.11/site-packages/evidently/core/datasets.py:990: RuntimeWarning:\n",
      "\n",
      "invalid value encountered in scalar divide\n",
      "\n",
      "/home/gus/miniconda3/envs/monitoring/lib/python3.11/site-packages/evidently/core/datasets.py:990: RuntimeWarning:\n",
      "\n",
      "invalid value encountered in scalar divide\n",
      "\n",
      "/home/gus/miniconda3/envs/monitoring/lib/python3.11/site-packages/evidently/core/datasets.py:990: RuntimeWarning:\n",
      "\n",
      "invalid value encountered in scalar divide\n",
      "\n"
     ]
    },
    {
     "name": "stdout",
     "output_type": "stream",
     "text": [
      "Processing data for 2024-03-12\n",
      "Processing data for 2024-03-13\n",
      "Processing data for 2024-03-14\n"
     ]
    },
    {
     "name": "stderr",
     "output_type": "stream",
     "text": [
      "/home/gus/miniconda3/envs/monitoring/lib/python3.11/site-packages/evidently/core/datasets.py:990: RuntimeWarning:\n",
      "\n",
      "invalid value encountered in scalar divide\n",
      "\n",
      "/home/gus/miniconda3/envs/monitoring/lib/python3.11/site-packages/evidently/core/datasets.py:990: RuntimeWarning:\n",
      "\n",
      "invalid value encountered in scalar divide\n",
      "\n",
      "/home/gus/miniconda3/envs/monitoring/lib/python3.11/site-packages/evidently/core/datasets.py:990: RuntimeWarning:\n",
      "\n",
      "invalid value encountered in scalar divide\n",
      "\n"
     ]
    },
    {
     "name": "stdout",
     "output_type": "stream",
     "text": [
      "Processing data for 2024-03-15\n",
      "Processing data for 2024-03-16\n",
      "Processing data for 2024-03-17\n"
     ]
    },
    {
     "name": "stderr",
     "output_type": "stream",
     "text": [
      "/home/gus/miniconda3/envs/monitoring/lib/python3.11/site-packages/evidently/core/datasets.py:990: RuntimeWarning:\n",
      "\n",
      "invalid value encountered in scalar divide\n",
      "\n",
      "/home/gus/miniconda3/envs/monitoring/lib/python3.11/site-packages/evidently/core/datasets.py:990: RuntimeWarning:\n",
      "\n",
      "invalid value encountered in scalar divide\n",
      "\n",
      "/home/gus/miniconda3/envs/monitoring/lib/python3.11/site-packages/evidently/core/datasets.py:990: RuntimeWarning:\n",
      "\n",
      "invalid value encountered in scalar divide\n",
      "\n"
     ]
    },
    {
     "name": "stdout",
     "output_type": "stream",
     "text": [
      "Processing data for 2024-03-18\n",
      "Processing data for 2024-03-19\n",
      "Processing data for 2024-03-20\n"
     ]
    },
    {
     "name": "stderr",
     "output_type": "stream",
     "text": [
      "/home/gus/miniconda3/envs/monitoring/lib/python3.11/site-packages/evidently/core/datasets.py:990: RuntimeWarning:\n",
      "\n",
      "invalid value encountered in scalar divide\n",
      "\n",
      "/home/gus/miniconda3/envs/monitoring/lib/python3.11/site-packages/evidently/core/datasets.py:990: RuntimeWarning:\n",
      "\n",
      "invalid value encountered in scalar divide\n",
      "\n",
      "/home/gus/miniconda3/envs/monitoring/lib/python3.11/site-packages/evidently/core/datasets.py:990: RuntimeWarning:\n",
      "\n",
      "invalid value encountered in scalar divide\n",
      "\n"
     ]
    },
    {
     "name": "stdout",
     "output_type": "stream",
     "text": [
      "Processing data for 2024-03-21\n",
      "Processing data for 2024-03-22\n"
     ]
    },
    {
     "name": "stderr",
     "output_type": "stream",
     "text": [
      "/home/gus/miniconda3/envs/monitoring/lib/python3.11/site-packages/evidently/core/datasets.py:990: RuntimeWarning:\n",
      "\n",
      "invalid value encountered in scalar divide\n",
      "\n",
      "/home/gus/miniconda3/envs/monitoring/lib/python3.11/site-packages/evidently/core/datasets.py:990: RuntimeWarning:\n",
      "\n",
      "invalid value encountered in scalar divide\n",
      "\n"
     ]
    },
    {
     "name": "stdout",
     "output_type": "stream",
     "text": [
      "Processing data for 2024-03-23\n",
      "Processing data for 2024-03-24\n",
      "Processing data for 2024-03-25\n"
     ]
    },
    {
     "name": "stderr",
     "output_type": "stream",
     "text": [
      "/home/gus/miniconda3/envs/monitoring/lib/python3.11/site-packages/evidently/core/datasets.py:990: RuntimeWarning:\n",
      "\n",
      "invalid value encountered in scalar divide\n",
      "\n",
      "/home/gus/miniconda3/envs/monitoring/lib/python3.11/site-packages/evidently/core/datasets.py:990: RuntimeWarning:\n",
      "\n",
      "invalid value encountered in scalar divide\n",
      "\n",
      "/home/gus/miniconda3/envs/monitoring/lib/python3.11/site-packages/evidently/core/datasets.py:990: RuntimeWarning:\n",
      "\n",
      "invalid value encountered in scalar divide\n",
      "\n"
     ]
    },
    {
     "name": "stdout",
     "output_type": "stream",
     "text": [
      "Processing data for 2024-03-26\n",
      "Processing data for 2024-03-27\n",
      "Processing data for 2024-03-28\n"
     ]
    },
    {
     "name": "stderr",
     "output_type": "stream",
     "text": [
      "/home/gus/miniconda3/envs/monitoring/lib/python3.11/site-packages/evidently/core/datasets.py:990: RuntimeWarning:\n",
      "\n",
      "invalid value encountered in scalar divide\n",
      "\n",
      "/home/gus/miniconda3/envs/monitoring/lib/python3.11/site-packages/evidently/core/datasets.py:990: RuntimeWarning:\n",
      "\n",
      "invalid value encountered in scalar divide\n",
      "\n",
      "/home/gus/miniconda3/envs/monitoring/lib/python3.11/site-packages/evidently/core/datasets.py:990: RuntimeWarning:\n",
      "\n",
      "invalid value encountered in scalar divide\n",
      "\n"
     ]
    }
   ],
   "source": [
    "data_definition = DataDefinition(numerical_columns = num_features + ['prediction'],\n",
    "                                 categorical_columns=cat_features)\n",
    "\n",
    "report = Report(metrics=[\n",
    "    StdValue(column='prediction'),\n",
    "    QuantileValue(column='fare_amount', quantile=0.5),\n",
    "]\n",
    ")\n",
    "\n",
    "for i in range(1,29):\n",
    "    print(f\"Processing data for 2024-03-{i:02d}\")\n",
    "    \n",
    "    if len(mar_data.loc[mar_data.lpep_pickup_datetime.between(\n",
    "        f'2024-03-{i:02d}', \n",
    "        f'2024-03-{i+1:02d}', \n",
    "        inclusive=\"left\")]) == 0:\n",
    "        print(f\"No data for 2024-03-{i:02d}\")\n",
    "        continue\n",
    "    \n",
    "    day_data = mar_data.loc[mar_data.lpep_pickup_datetime.between(\n",
    "        f'2024-03-{i:02d}', \n",
    "        f'2024-03-{i+1:02d}', \n",
    "        inclusive=\"left\")]\n",
    "\n",
    "    data = Dataset.from_pandas(data=day_data,\n",
    "                            data_definition = data_definition)\n",
    "\n",
    "    snapshot = report.run(reference_data=mar_data,\n",
    "                current_data=data,\n",
    "                timestamp=dt.datetime(2024, 3, i))\n",
    "    \n",
    "    ws.add_run(project.id, snapshot)"
   ]
  },
  {
   "cell_type": "code",
   "execution_count": 28,
   "id": "a3f99372",
   "metadata": {},
   "outputs": [],
   "source": [
    "project.dashboard.clear_dashboard()\n",
    "\n",
    "project.dashboard.add_panel(\n",
    "    DashboardPanelPlot(\n",
    "        title=\"Homework 5 - NYC Taxi Data\",\n",
    "        size=\"full\",\n",
    "        values=[],\n",
    "        plot_params={\"plot_type\": \"text\"}\n",
    "    )\n",
    ")\n",
    "\n",
    "project.dashboard.add_panel(\n",
    "    DashboardPanelPlot(\n",
    "        title=\"Prediction Standard Deviation\",\n",
    "        size=\"half\",\n",
    "        values=[\n",
    "            PanelMetric(legend=\"std\", metric=\"StdValue\", metric_labels={\"column\":\"prediction\"})\n",
    "        ]\n",
    "    )\n",
    ")\n",
    "\n",
    "project.dashboard.add_panel(\n",
    "    DashboardPanelPlot(\n",
    "        title=\"Median Fare Amount\",\n",
    "        size=\"half\",\n",
    "        values=[\n",
    "            PanelMetric(legend=\"median\", metric=\"QuantileValue\", metric_labels={\"column\":\"fare_amount\", \"quantile\":0.5})\n",
    "        ]\n",
    "    )\n",
    ")\n",
    "\n"
   ]
  }
 ],
 "metadata": {
  "kernelspec": {
   "display_name": "monitoring",
   "language": "python",
   "name": "python3"
  },
  "language_info": {
   "codemirror_mode": {
    "name": "ipython",
    "version": 3
   },
   "file_extension": ".py",
   "mimetype": "text/x-python",
   "name": "python",
   "nbconvert_exporter": "python",
   "pygments_lexer": "ipython3",
   "version": "3.11.13"
  }
 },
 "nbformat": 4,
 "nbformat_minor": 5
}
